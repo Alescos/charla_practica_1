{
  "nbformat": 4,
  "nbformat_minor": 0,
  "metadata": {
    "colab": {
      "name": "breast_cancer_classifier.ipynb",
      "provenance": [],
      "collapsed_sections": [],
      "include_colab_link": true
    },
    "kernelspec": {
      "name": "python3",
      "display_name": "Python 3"
    }
  },
  "cells": [
    {
      "cell_type": "markdown",
      "metadata": {
        "id": "view-in-github",
        "colab_type": "text"
      },
      "source": [
        "<a href=\"https://colab.research.google.com/github/veroggu/charla_practica_1/blob/master/breast_cancer_classifier.ipynb\" target=\"_parent\"><img src=\"https://colab.research.google.com/assets/colab-badge.svg\" alt=\"Open In Colab\"/></a>"
      ]
    },
    {
      "cell_type": "markdown",
      "metadata": {
        "id": "lv0X6IndR3-r",
        "colab_type": "text"
      },
      "source": [
        "### **Clasificación binaria(maligno, benigno) en dataset de cáncer de mama**\n",
        " \n",
        "*   **Contexto**\n",
        "\n",
        "El cáncer de mama es uno de los cánceres más comunes entre las mujeres en todo el mundo, y representa la mayoría de los casos nuevos de cáncer y las muertes relacionadas con el cáncer según las estadísticas mundiales, lo que lo convierte en un problema de salud pública importante en la sociedad actual. El diagnóstico precoz puede mejorar significativamente el pronóstico y la posibilidad de supervivencia, ya que puede promover el tratamiento clínico oportuno de los pacientes. Una clasificación más precisa de los tumores benignos puede evitar que los pacientes se sometan a tratamientos innecesarios. Por tanto, el diagnóstico correcto y la clasificación de los pacientes en grupos malignos o benignos es objeto de mucha investigación. \n",
        "\n",
        "*   **Objetivo**\n",
        "\n",
        "Clasificar determinados ejemplos de posible cáncer de mama en benignos o malignos, utilizando métodos de clasificación de machine learning y determinar cuál es el de mayor exactitud. \n",
        "\n",
        "*   **Instrucciones**\n",
        " \n",
        "En la carpeta Charla 2 se encuentra el archivo breast_cancer_classif.py que contiene partes de código para construir 3 modelos de ML: \n",
        "\n",
        "-K-Nearest Neighbour (kNN) \n",
        "\n",
        "-Support Vector Machine (SVM) \n",
        "\n",
        "-Random Forest \n",
        "\n",
        "La idea es que por grupos rellenen los espacios en blanco del código para que sea funcional y puedan responder las preguntas del formulario. "
      ]
    },
    {
      "cell_type": "code",
      "metadata": {
        "id": "gm9fwBtERuvq",
        "colab_type": "code",
        "colab": {}
      },
      "source": [
        "# Load libraries\n",
        "from sklearn.datasets import load_breast_cancer\n",
        "from sklearn.model_selection import train_test_split\n",
        "from sklearn.metrics import accuracy_score\n",
        "from sklearn.neighbors import KNeighborsClassifier\n",
        "from sklearn.svm import SVC\n",
        "from sklearn.ensemble import RandomForestClassifier"
      ],
      "execution_count": null,
      "outputs": []
    },
    {
      "cell_type": "code",
      "metadata": {
        "id": "ucGeQH4SRv_y",
        "colab_type": "code",
        "colab": {}
      },
      "source": [
        "# Load dataset\n",
        "# Consulten como importar el dataset de \"breast cancer\" de los disponibles en scikit-learn y guardenlo en una variable, por ejemplo \"cancer\"\n",
        "#"
      ],
      "execution_count": null,
      "outputs": []
    },
    {
      "cell_type": "code",
      "metadata": {
        "id": "nh9zRcsKRzs2",
        "colab_type": "code",
        "colab": {}
      },
      "source": [
        "# Dataset description\n",
        "# Desplegar toda la información relacionada con el dataset. Responder las preguntas en el forms\n",
        "#"
      ],
      "execution_count": null,
      "outputs": []
    },
    {
      "cell_type": "code",
      "metadata": {
        "id": "PXbYib0rR2jH",
        "colab_type": "code",
        "colab": {}
      },
      "source": [
        "# Show classes\n",
        "#"
      ],
      "execution_count": null,
      "outputs": []
    },
    {
      "cell_type": "code",
      "metadata": {
        "id": "AhKpZ3WASUMF",
        "colab_type": "code",
        "colab": {}
      },
      "source": [
        "# Show feature names\n",
        "#"
      ],
      "execution_count": null,
      "outputs": []
    },
    {
      "cell_type": "code",
      "metadata": {
        "id": "zlJ7xqrWSUZa",
        "colab_type": "code",
        "colab": {}
      },
      "source": [
        "# Show # instances and features\n",
        "cancer.data.shape"
      ],
      "execution_count": null,
      "outputs": []
    },
    {
      "cell_type": "code",
      "metadata": {
        "id": "CoX0PCP-SUmX",
        "colab_type": "code",
        "colab": {}
      },
      "source": [
        "# Data splitting\n",
        "X = cancer.data  # Ejemplos con el valor de sus atributos\n",
        "Y = cancer.target # Valor esperado\n",
        "# Dividir el dataset en set de entrenamiento y prueba con una proporción 80/20. Deben obtener las variables X_train, X_test, Y_train, Y_test\n",
        "# Usar la semilla (random_state=1) dentro de la función de split para que cada vez que lo corran de el mismo resultado\n",
        "# "
      ],
      "execution_count": null,
      "outputs": []
    },
    {
      "cell_type": "code",
      "metadata": {
        "id": "esyBk2tPSfBw",
        "colab_type": "code",
        "colab": {}
      },
      "source": [
        "# Models: Random Forest\n",
        "model1 = RandomForestClassifier(random_state=1) # Modelo a usar\n",
        "model1.fit(X_train,Y_train) # Entrenamiento\n",
        "predictions1 = model1.predict(X_test) # Predicciones en el set de prueba\n",
        "print(accuracy_score(Y_test,predictions1)) # Exactitud de las predicciones respecto al valor esperado"
      ],
      "execution_count": null,
      "outputs": []
    },
    {
      "cell_type": "code",
      "metadata": {
        "id": "zz9Ds83GSfUb",
        "colab_type": "code",
        "colab": {}
      },
      "source": [
        "# Models: Support Vector Machine\n",
        "model2 = SVC()\n",
        "#\n",
        "#\n",
        "#"
      ],
      "execution_count": null,
      "outputs": []
    },
    {
      "cell_type": "code",
      "metadata": {
        "id": "AS8y12e-Sfgi",
        "colab_type": "code",
        "colab": {}
      },
      "source": [
        "# Models: K-Nearest Neighbor(KNN)\n",
        "#\n",
        "#\n",
        "#\n",
        "#"
      ],
      "execution_count": null,
      "outputs": []
    }
  ]
}